{
  "nbformat": 4,
  "nbformat_minor": 0,
  "metadata": {
    "colab": {
      "private_outputs": true,
      "provenance": []
    },
    "kernelspec": {
      "name": "python3",
      "display_name": "Python 3"
    },
    "language_info": {
      "name": "python"
    }
  },
  "cells": [
    {
      "cell_type": "markdown",
      "metadata": {
        "id": "view-in-github"
      },
      "source": [
        "<a href=\"https://colab.research.google.com/github/ArBaghel/Exploratory-Data-Analysis/blob/main/world_Population.ipynb\" target=\"_parent\"><img src=\"https://colab.research.google.com/assets/colab-badge.svg\" alt=\"Open In Colab\"/></a>"
      ]
    },
    {
      "cell_type": "code",
      "execution_count": null,
      "metadata": {
        "id": "mt0qLzuUS70P"
      },
      "outputs": [],
      "source": [
        "import numpy as np\n",
        "import pandas as pd\n",
        "import matplotlib.pyplot as plt\n",
        "import seaborn as sns\n",
        "import missingno as ms"
      ]
    },
    {
      "cell_type": "markdown",
      "source": [],
      "metadata": {
        "id": "SXEAjCgVHTFt"
      }
    },
    {
      "cell_type": "code",
      "source": [
        "df=pd.read_csv('/content/world_population.csv')\n",
        "df"
      ],
      "metadata": {
        "id": "BE-MoVj5uwI_"
      },
      "execution_count": null,
      "outputs": []
    },
    {
      "cell_type": "code",
      "source": [
        "df.info()"
      ],
      "metadata": {
        "id": "ZJUYk9bXVyVh"
      },
      "execution_count": null,
      "outputs": []
    },
    {
      "cell_type": "code",
      "source": [
        "print(df.describe())"
      ],
      "metadata": {
        "id": "OicLKa9XZuDA"
      },
      "execution_count": null,
      "outputs": []
    },
    {
      "cell_type": "code",
      "source": [
        "ms.matrix(df)"
      ],
      "metadata": {
        "id": "Uguf_Jx1BLGq"
      },
      "execution_count": null,
      "outputs": []
    },
    {
      "cell_type": "code",
      "source": [
        "df.value_counts()"
      ],
      "metadata": {
        "id": "Fcx8Lr2cwoYJ"
      },
      "execution_count": null,
      "outputs": []
    },
    {
      "cell_type": "code",
      "source": [
        "Conti_popul = df.groupby('Continent')['2022 Population'].sum().sort_values(ascending=False)\n",
        "top_continents = Conti_popul.head()\n",
        "plt.figure(figsize=(10, 5))\n",
        "sns.barplot(y=top_continents.values, x=top_continents.index, palette=sns.color_palette('bright'))\n",
        "\n",
        "plt.title('Top Continents with Highest Population')\n",
        "plt.show()"
      ],
      "metadata": {
        "id": "A6oSYde7-EKK"
      },
      "execution_count": null,
      "outputs": []
    },
    {
      "cell_type": "code",
      "source": [
        "Country_popul = df.groupby('Country/Territory')['2022 Population'].sum().sort_values(ascending=False)\n",
        "top_20_countries = Country_popul.head(20)\n",
        "\n",
        "sns.barplot(x=top_20_countries.values, y=top_20_countries.index, palette=sns.color_palette('bright'))\n",
        "plt.title('Top 20 Countries with Highest Population')\n",
        "plt.show()\n",
        "Country_popul = df.groupby('Country/Territory')['2022 Population'].sum().sort_values(ascending=True)\n",
        "least_20_countries = Country_popul.head(20)\n",
        "\n",
        "sns.barplot(x=least_20_countries.values, y=least_20_countries.index, palette=sns.color_palette('bright'))\n",
        "plt.title('Least 20 Countries with Lowest Population')\n",
        "plt.show()"
      ],
      "metadata": {
        "id": "Q3viowRZ6ScK"
      },
      "execution_count": null,
      "outputs": []
    },
    {
      "cell_type": "code",
      "source": [
        "Conti_popul_ratio = df.groupby('Continent')['World Population Percentage'].sum().sort_values(ascending=False)\n",
        "continents_population_ratio = Conti_popul_ratio.head()\n",
        "plt.pie(continents_population_ratio.values, labels=continents_population_ratio.index, autopct='%1.1f%%',explode=[0.1, 0.1, 0, 0, 0], shadow=True)\n",
        "\n",
        "plt.legend(loc='upper right')\n",
        "plt.title('Continent Wise Population Ratio')\n",
        "plt.show()"
      ],
      "metadata": {
        "id": "oFkQaY7q3w19"
      },
      "execution_count": null,
      "outputs": []
    },
    {
      "cell_type": "code",
      "source": [
        "# prompt: scatter plot of population growth rate   of the countries of asia showing points with different colors\n",
        "\n",
        "import matplotlib.pyplot as plt\n",
        "import numpy as np\n",
        "# Filter data for Asia\n",
        "asia_df = df[df['Continent'] == 'Asia']\n",
        "\n",
        "# Create a scatter plot with different colors for each country\n",
        "plt.figure(figsize=(12, 6))\n",
        "plt.scatter(asia_df['Country/Territory'], asia_df['Growth Rate'], c=np.random.rand(len(asia_df)))\n",
        "plt.xlabel('Country/Territory')\n",
        "plt.ylabel('Population Growth Rate')\n",
        "plt.title('Population Growth Rate of Asian Countries')\n",
        "plt.xticks(rotation=90)  # Rotate x-axis labels for better readability\n",
        "plt.grid(True)\n",
        "\n",
        "plt.show()\n"
      ],
      "metadata": {
        "id": "KbSY51BNu6Yv"
      },
      "execution_count": null,
      "outputs": []
    },
    {
      "cell_type": "code",
      "source": [
        "correlation_matrix = df.corr(numeric_only=True) # Added numeric_only=True to only include numeric columns in calculation\n",
        "plt.figure(figsize=(12, 10))\n",
        "sns.heatmap(correlation_matrix, annot=True, cmap='coolwarm', fmt=\".2f\")\n",
        "plt.title('Correlation Matrix')\n",
        "plt.show()"
      ],
      "metadata": {
        "id": "vHsX1gxCRJFy"
      },
      "execution_count": null,
      "outputs": []
    },
    {
      "cell_type": "code",
      "source": [
        "africa_df = df[df['Continent'] == 'Africa']\n",
        "africa_country_pop = africa_df.groupby('Country/Territory')['2022 Population'].sum().sort_values(ascending=False)\n",
        "\n",
        "plt.figure(figsize=(15, 6))\n",
        "sns.barplot(x=africa_country_pop.index, y=africa_country_pop.values, palette='viridis')\n",
        "plt.xticks(rotation=90)\n",
        "plt.xlabel('African Countries')\n",
        "plt.ylabel('2022 Population')\n",
        "plt.title('Population in African Countries')\n",
        "plt.show()\n"
      ],
      "metadata": {
        "id": "xEy0lqQmOmaJ"
      },
      "execution_count": null,
      "outputs": []
    },
    {
      "cell_type": "code",
      "source": [
        "asia_df = df[df['Continent'] == 'Asia']\n",
        "asia_country_pop = asia_df.groupby('Country/Territory')['2022 Population'].sum().sort_values(ascending=False)\n",
        "\n",
        "plt.figure(figsize=(15, 6))\n",
        "sns.barplot(x=asia_country_pop.index, y=asia_country_pop.values, palette='viridis')\n",
        "plt.xticks(rotation=90)\n",
        "plt.xlabel('Asian Countries')\n",
        "plt.ylabel('2022 Population')\n",
        "plt.title('Population in Asian Countries')\n",
        "plt.show()\n"
      ],
      "metadata": {
        "id": "ZdLeUi-xQxpP"
      },
      "execution_count": null,
      "outputs": []
    },
    {
      "cell_type": "code",
      "source": [
        "Europe_df = df[df['Continent'] == 'Europe']\n",
        "Europe_country_pop = Europe_df.groupby('Country/Territory')['2022 Population'].sum().sort_values(ascending=False)\n",
        "\n",
        "plt.figure(figsize=(15, 6))\n",
        "sns.barplot(x=Europe_country_pop.index, y=Europe_country_pop.values, palette='viridis')\n",
        "plt.xticks(rotation=90)\n",
        "plt.xlabel('European Countries')\n",
        "plt.ylabel('2022 Population')\n",
        "plt.title('Population in European Countries')\n",
        "plt.show()\n"
      ],
      "metadata": {
        "id": "Rar2UruScg89"
      },
      "execution_count": null,
      "outputs": []
    },
    {
      "cell_type": "code",
      "source": [
        "import plotly.express as px\n",
        "\n",
        "fig = px.choropleth(df, locations=\"CCA3\",\n",
        "                    color=\"2022 Population\", # lifeExp is a column of gapminder\n",
        "                    hover_name=\"Country/Territory\", # column to add to hover information\n",
        "                    color_continuous_scale=px.colors.sequential.Plasma)\n",
        "fig.show()\n"
      ],
      "metadata": {
        "id": "64wAfY1Yd6_3"
      },
      "execution_count": null,
      "outputs": []
    },
    {
      "cell_type": "code",
      "source": [
        " #choropleth map of Asia\n",
        "\n",
        "asia_df = df[df['Continent'] == 'Asia']\n",
        "\n",
        "fig = px.choropleth(asia_df, locations=\"CCA3\",\n",
        "                    color=\"2022 Population\",\n",
        "                    hover_name=\"Country/Territory\",\n",
        "                    color_continuous_scale=px.colors.sequential.Plasma)\n",
        "fig.update_layout(title_text='Population of Asian Countries')\n",
        "fig.show()\n"
      ],
      "metadata": {
        "id": "Q9FE4l6WmZFJ"
      },
      "execution_count": null,
      "outputs": []
    },
    {
      "cell_type": "code",
      "source": [
        "\n",
        "africa_df = df[df['Continent']=='Africa']\n",
        "plot=px.choropleth(africa_df,locations='CCA3',\n",
        "                   color='2022 Population',\n",
        "                   hover_name='Country/Territory',\n",
        "                   color_continuous_scale=px.colors.sequential.Plasma)\n",
        "plot.update_layout(title_text='Population of African Countries')\n",
        "plot.show()"
      ],
      "metadata": {
        "id": "M58N4UounJpv"
      },
      "execution_count": null,
      "outputs": []
    },
    {
      "cell_type": "code",
      "source": [
        "country_name = 'India' # Example country\n",
        "\n",
        "# Filter the DataFrame for the specific country\n",
        "country_df = df[df['Country/Territory'] == country_name]\n",
        "\n",
        "# Transpose the DataFrame and select relevant columns\n",
        "population_df = country_df.T\n",
        "population_df = population_df[population_df.index.str.contains('Population')]\n",
        "\n",
        "# Clean the index to extract the year\n",
        "population_df.index = population_df.index.str.replace(' Population', '')\n",
        "\n",
        "# Plot the line graph\n",
        "plt.figure(figsize=(10, 5))\n",
        "plt.plot(population_df.index, population_df.iloc[:,0])\n",
        "plt.xlabel('Year')\n",
        "plt.ylabel('Population')\n",
        "plt.title(f'Population Growth of {country_name}')\n",
        "plt.show()\n",
        "\n"
      ],
      "metadata": {
        "id": "2Ho9U1Aoqopl"
      },
      "execution_count": null,
      "outputs": []
    }
  ]
}